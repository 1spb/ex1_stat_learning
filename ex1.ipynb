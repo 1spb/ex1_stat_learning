{
 "cells": [
  {
   "cell_type": "code",
   "execution_count": 0,
   "metadata": {
    "collapsed": true
   },
   "outputs": [],
   "source": [
    "import pandas as pd\n",
    "import numpy as np\n",
    "import statsmodels.api as sm\n",
    "import statsmodels.formula.api as smf\n",
    "pd.options.display.float_format = '{:.5f}'.format"
   ]
  },
  {
   "cell_type": "markdown",
   "source": [
    "## Q4"
   ],
   "metadata": {
    "collapsed": false
   }
  },
  {
   "cell_type": "code",
   "execution_count": 23,
   "outputs": [],
   "source": [
    "# Load the dataset into a pandas DataFrame\n",
    "df = pd.read_csv('dataset.csv')\n",
    "\n",
    "# Extract the first column as the explained variable and the remaining columns as the explanatory variables\n",
    "y = df.iloc[:, 0]\n",
    "X = df.iloc[:, 1:]\n",
    "\n",
    "# Add a constant term to the explanatory variables\n",
    "X = sm.add_constant(X, prepend=False)\n",
    "\n",
    "model = sm.OLS(y, X)\n",
    "results = model.fit()\n",
    "p_values = results.pvalues"
   ],
   "metadata": {
    "collapsed": false
   }
  },
  {
   "cell_type": "code",
   "execution_count": 24,
   "outputs": [
    {
     "name": "stdout",
     "output_type": "stream",
     "text": [
      "x1      0.08981\n",
      "x2      0.16261\n",
      "x3      0.00000\n",
      "x4      0.08544\n",
      "x5      0.43359\n",
      "x6      0.00000\n",
      "x7      0.00313\n",
      "x8      0.01692\n",
      "x9      0.93058\n",
      "x10     0.28893\n",
      "x11     0.00003\n",
      "x12     0.04736\n",
      "x13     0.84537\n",
      "x14     0.25336\n",
      "x15     0.42290\n",
      "x16     0.91245\n",
      "x17     0.67945\n",
      "x18     0.31476\n",
      "x19     0.00000\n",
      "x20     0.00000\n",
      "x21     0.63484\n",
      "x22     0.81451\n",
      "x23     0.14030\n",
      "x24     0.00000\n",
      "const   0.16588\n",
      "dtype: float64\n"
     ]
    }
   ],
   "source": [
    "print(p_values)"
   ],
   "metadata": {
    "collapsed": false
   }
  },
  {
   "cell_type": "markdown",
   "source": [
    "## Q5"
   ],
   "metadata": {
    "collapsed": false
   }
  },
  {
   "cell_type": "code",
   "execution_count": 25,
   "outputs": [],
   "source": [
    "def backwards_elim():\n",
    "    # Using backward elimination to remove the least significant explanatory variable until adjusted R-squared stops improving\n",
    "    while True:\n",
    "        # Find the index of the least significant explanatory variable by looking at the p-values\n",
    "        p_values = results.pvalues[1:]  # Exclude the p-value for the intercept term\n",
    "        min_p_value = p_values.min()\n",
    "        min_p_value_index = p_values.idxmin()\n",
    "\n",
    "        # If the p-value of the least significant variable is above a threshold (e.g., 0.05), stop removing variables\n",
    "        if min_p_value > 0.05:\n",
    "            break\n",
    "\n",
    "        # Otherwise, remove the least significant variable and refit the model\n",
    "        X = X.drop(columns=[min_p_value_index])\n",
    "        model = sm.OLS(y, X)\n",
    "        results = model.fit()\n",
    "        new_adj_r_squared = results.rsquared_adj\n",
    "\n",
    "        # If the adjusted R-squared doesn't improve by removing the least significant variable, stop removing variables\n",
    "        if new_adj_r_squared < adj_r_squared:\n",
    "            break\n",
    "\n",
    "        adj_r_squared = new_adj_r_squared\n"
   ],
   "metadata": {
    "collapsed": false
   }
  },
  {
   "cell_type": "code",
   "execution_count": null,
   "outputs": [],
   "source": [],
   "metadata": {
    "collapsed": false
   }
  }
 ],
 "metadata": {
  "kernelspec": {
   "display_name": "Python 3",
   "language": "python",
   "name": "python3"
  },
  "language_info": {
   "codemirror_mode": {
    "name": "ipython",
    "version": 2
   },
   "file_extension": ".py",
   "mimetype": "text/x-python",
   "name": "python",
   "nbconvert_exporter": "python",
   "pygments_lexer": "ipython2",
   "version": "2.7.6"
  }
 },
 "nbformat": 4,
 "nbformat_minor": 0
}
