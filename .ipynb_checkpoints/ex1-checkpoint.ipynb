{
 "cells": [
  {
   "cell_type": "code",
   "execution_count": 1,
   "metadata": {
    "collapsed": true
   },
   "outputs": [],
   "source": [
    "import pandas as pd\n",
    "import numpy as np\n",
    "import statsmodels.api as sm\n",
    "import matplotlib.pyplot as plt\n",
    "import corner\n",
    "import warnings\n",
    "pd.options.display.float_format = '{:.5f}'.format\n",
    "pd.set_option('display.max_columns', 500)\n",
    "warnings.filterwarnings('ignore')\n",
    "# jupyter nbconvert --to html  ex1.ipynb"
   ]
  },
  {
   "cell_type": "markdown",
   "metadata": {},
   "source": [
    "Michael Kuznetsov 342522745\n",
    "Elisha Diskind 298782656\n",
    "\n",
    "## Q1+Q2\n",
    "\n",
    "\n",
    "We are choosing the data set of all FIFA (the game) players with their stats (FIFA player measurements). We can learn a lot from this df and we want to see if there is some relations between the stats."
   ]
  },
  {
   "cell_type": "code",
   "execution_count": 2,
   "metadata": {},
   "outputs": [],
   "source": [
    "fifa_df=pd.read_csv(\"FIFA17_official_data.csv\")\n",
    "\n",
    "# Deleting all goalkeepers (GK position) cause their stats are quite different from other players.\n",
    "fifa_df=fifa_df[fifa_df[\"Best Position\"]!= \"GK\"]"
   ]
  },
  {
   "cell_type": "markdown",
   "metadata": {},
   "source": [
    "FIFA df has a lot of columns, so we will keep only columns that we think are relevant for us. Some columns we have deleted because we don't know what is the meaning of them, some were related to goalkeepers that we have deleted from data set\n",
    "and a lot of columns are irrelevant to our job. <br>\n",
    "In particular, our first explained variable will be \"Overall\" that is how many points out of 100 the FIFA game has given to some particular player and second one is \"Value\" that shows the price for some player. <br>\n",
    "We want to check if our features has relation to Overall variable and if so how strong it is."
   ]
  },
  {
   "cell_type": "code",
   "execution_count": 3,
   "metadata": {},
   "outputs": [],
   "source": [
    "fifa_subset = fifa_df[['Age', 'Overall', 'Value','ShortPassing',\n",
    "       'LongPassing', 'SprintSpeed', 'ShotPower',\n",
    "       'LongShots', 'Positioning', 'StandingTackle', 'SlidingTackle','Best Position']]\n"
   ]
  },
  {
   "cell_type": "markdown",
   "metadata": {},
   "source": []
  },
  {
   "cell_type": "code",
   "execution_count": 4,
   "metadata": {},
   "outputs": [],
   "source": [
    "# Delete the players with Value = 0\n",
    "fifa_subset = fifa_subset[fifa_subset[\"Value\"]!=\"€0\"]"
   ]
  },
  {
   "cell_type": "code",
   "execution_count": 5,
   "metadata": {},
   "outputs": [
    {
     "data": {
      "text/html": [
       "<div>\n",
       "<style scoped>\n",
       "    .dataframe tbody tr th:only-of-type {\n",
       "        vertical-align: middle;\n",
       "    }\n",
       "\n",
       "    .dataframe tbody tr th {\n",
       "        vertical-align: top;\n",
       "    }\n",
       "\n",
       "    .dataframe thead th {\n",
       "        text-align: right;\n",
       "    }\n",
       "</style>\n",
       "<table border=\"1\" class=\"dataframe\">\n",
       "  <thead>\n",
       "    <tr style=\"text-align: right;\">\n",
       "      <th></th>\n",
       "      <th>Age</th>\n",
       "      <th>Overall</th>\n",
       "      <th>Value</th>\n",
       "      <th>ShortPassing</th>\n",
       "      <th>LongPassing</th>\n",
       "      <th>SprintSpeed</th>\n",
       "      <th>ShotPower</th>\n",
       "      <th>LongShots</th>\n",
       "      <th>Positioning</th>\n",
       "      <th>StandingTackle</th>\n",
       "      <th>SlidingTackle</th>\n",
       "      <th>Best Position</th>\n",
       "    </tr>\n",
       "  </thead>\n",
       "  <tbody>\n",
       "    <tr>\n",
       "      <th>0</th>\n",
       "      <td>29</td>\n",
       "      <td>92</td>\n",
       "      <td>€83M</td>\n",
       "      <td>83.00000</td>\n",
       "      <td>64.00000</td>\n",
       "      <td>77.00000</td>\n",
       "      <td>87.00000</td>\n",
       "      <td>86.00000</td>\n",
       "      <td>92.00000</td>\n",
       "      <td>45.00000</td>\n",
       "      <td>38.00000</td>\n",
       "      <td>ST</td>\n",
       "    </tr>\n",
       "    <tr>\n",
       "      <th>1</th>\n",
       "      <td>28</td>\n",
       "      <td>86</td>\n",
       "      <td>€37.5M</td>\n",
       "      <td>84.00000</td>\n",
       "      <td>81.00000</td>\n",
       "      <td>78.00000</td>\n",
       "      <td>84.00000</td>\n",
       "      <td>86.00000</td>\n",
       "      <td>88.00000</td>\n",
       "      <td>85.00000</td>\n",
       "      <td>88.00000</td>\n",
       "      <td>CDM</td>\n",
       "    </tr>\n",
       "    <tr>\n",
       "      <th>2</th>\n",
       "      <td>29</td>\n",
       "      <td>87</td>\n",
       "      <td>€41.5M</td>\n",
       "      <td>84.00000</td>\n",
       "      <td>82.00000</td>\n",
       "      <td>74.00000</td>\n",
       "      <td>84.00000</td>\n",
       "      <td>85.00000</td>\n",
       "      <td>80.00000</td>\n",
       "      <td>89.00000</td>\n",
       "      <td>84.00000</td>\n",
       "      <td>CDM</td>\n",
       "    </tr>\n",
       "    <tr>\n",
       "      <th>3</th>\n",
       "      <td>24</td>\n",
       "      <td>86</td>\n",
       "      <td>€41.5M</td>\n",
       "      <td>83.00000</td>\n",
       "      <td>80.00000</td>\n",
       "      <td>86.00000</td>\n",
       "      <td>83.00000</td>\n",
       "      <td>83.00000</td>\n",
       "      <td>77.00000</td>\n",
       "      <td>83.00000</td>\n",
       "      <td>83.00000</td>\n",
       "      <td>LB</td>\n",
       "    </tr>\n",
       "    <tr>\n",
       "      <th>4</th>\n",
       "      <td>23</td>\n",
       "      <td>88</td>\n",
       "      <td>€71.5M</td>\n",
       "      <td>85.00000</td>\n",
       "      <td>88.00000</td>\n",
       "      <td>79.00000</td>\n",
       "      <td>90.00000</td>\n",
       "      <td>87.00000</td>\n",
       "      <td>84.00000</td>\n",
       "      <td>73.00000</td>\n",
       "      <td>73.00000</td>\n",
       "      <td>CAM</td>\n",
       "    </tr>\n",
       "    <tr>\n",
       "      <th>...</th>\n",
       "      <td>...</td>\n",
       "      <td>...</td>\n",
       "      <td>...</td>\n",
       "      <td>...</td>\n",
       "      <td>...</td>\n",
       "      <td>...</td>\n",
       "      <td>...</td>\n",
       "      <td>...</td>\n",
       "      <td>...</td>\n",
       "      <td>...</td>\n",
       "      <td>...</td>\n",
       "      <td>...</td>\n",
       "    </tr>\n",
       "    <tr>\n",
       "      <th>16261</th>\n",
       "      <td>18</td>\n",
       "      <td>49</td>\n",
       "      <td>€60K</td>\n",
       "      <td>38.00000</td>\n",
       "      <td>34.00000</td>\n",
       "      <td>42.00000</td>\n",
       "      <td>35.00000</td>\n",
       "      <td>21.00000</td>\n",
       "      <td>25.00000</td>\n",
       "      <td>48.00000</td>\n",
       "      <td>47.00000</td>\n",
       "      <td>CB</td>\n",
       "    </tr>\n",
       "    <tr>\n",
       "      <th>16299</th>\n",
       "      <td>28</td>\n",
       "      <td>56</td>\n",
       "      <td>€90K</td>\n",
       "      <td>33.00000</td>\n",
       "      <td>35.00000</td>\n",
       "      <td>34.00000</td>\n",
       "      <td>39.00000</td>\n",
       "      <td>28.00000</td>\n",
       "      <td>17.00000</td>\n",
       "      <td>56.00000</td>\n",
       "      <td>50.00000</td>\n",
       "      <td>CB</td>\n",
       "    </tr>\n",
       "    <tr>\n",
       "      <th>16454</th>\n",
       "      <td>18</td>\n",
       "      <td>54</td>\n",
       "      <td>€130K</td>\n",
       "      <td>36.00000</td>\n",
       "      <td>47.00000</td>\n",
       "      <td>62.00000</td>\n",
       "      <td>31.00000</td>\n",
       "      <td>22.00000</td>\n",
       "      <td>18.00000</td>\n",
       "      <td>50.00000</td>\n",
       "      <td>49.00000</td>\n",
       "      <td>CB</td>\n",
       "    </tr>\n",
       "    <tr>\n",
       "      <th>16465</th>\n",
       "      <td>17</td>\n",
       "      <td>48</td>\n",
       "      <td>€60K</td>\n",
       "      <td>30.00000</td>\n",
       "      <td>20.00000</td>\n",
       "      <td>54.00000</td>\n",
       "      <td>38.00000</td>\n",
       "      <td>17.00000</td>\n",
       "      <td>24.00000</td>\n",
       "      <td>48.00000</td>\n",
       "      <td>50.00000</td>\n",
       "      <td>CB</td>\n",
       "    </tr>\n",
       "    <tr>\n",
       "      <th>16832</th>\n",
       "      <td>17</td>\n",
       "      <td>45</td>\n",
       "      <td>€60K</td>\n",
       "      <td>31.00000</td>\n",
       "      <td>24.00000</td>\n",
       "      <td>53.00000</td>\n",
       "      <td>21.00000</td>\n",
       "      <td>17.00000</td>\n",
       "      <td>20.00000</td>\n",
       "      <td>44.00000</td>\n",
       "      <td>43.00000</td>\n",
       "      <td>CB</td>\n",
       "    </tr>\n",
       "  </tbody>\n",
       "</table>\n",
       "<p>15295 rows × 12 columns</p>\n",
       "</div>"
      ],
      "text/plain": [
       "       Age  Overall   Value  ShortPassing  LongPassing  SprintSpeed  \\\n",
       "0       29       92    €83M      83.00000     64.00000     77.00000   \n",
       "1       28       86  €37.5M      84.00000     81.00000     78.00000   \n",
       "2       29       87  €41.5M      84.00000     82.00000     74.00000   \n",
       "3       24       86  €41.5M      83.00000     80.00000     86.00000   \n",
       "4       23       88  €71.5M      85.00000     88.00000     79.00000   \n",
       "...    ...      ...     ...           ...          ...          ...   \n",
       "16261   18       49    €60K      38.00000     34.00000     42.00000   \n",
       "16299   28       56    €90K      33.00000     35.00000     34.00000   \n",
       "16454   18       54   €130K      36.00000     47.00000     62.00000   \n",
       "16465   17       48    €60K      30.00000     20.00000     54.00000   \n",
       "16832   17       45    €60K      31.00000     24.00000     53.00000   \n",
       "\n",
       "       ShotPower  LongShots  Positioning  StandingTackle  SlidingTackle  \\\n",
       "0       87.00000   86.00000     92.00000        45.00000       38.00000   \n",
       "1       84.00000   86.00000     88.00000        85.00000       88.00000   \n",
       "2       84.00000   85.00000     80.00000        89.00000       84.00000   \n",
       "3       83.00000   83.00000     77.00000        83.00000       83.00000   \n",
       "4       90.00000   87.00000     84.00000        73.00000       73.00000   \n",
       "...          ...        ...          ...             ...            ...   \n",
       "16261   35.00000   21.00000     25.00000        48.00000       47.00000   \n",
       "16299   39.00000   28.00000     17.00000        56.00000       50.00000   \n",
       "16454   31.00000   22.00000     18.00000        50.00000       49.00000   \n",
       "16465   38.00000   17.00000     24.00000        48.00000       50.00000   \n",
       "16832   21.00000   17.00000     20.00000        44.00000       43.00000   \n",
       "\n",
       "      Best Position  \n",
       "0                ST  \n",
       "1               CDM  \n",
       "2               CDM  \n",
       "3                LB  \n",
       "4               CAM  \n",
       "...             ...  \n",
       "16261            CB  \n",
       "16299            CB  \n",
       "16454            CB  \n",
       "16465            CB  \n",
       "16832            CB  \n",
       "\n",
       "[15295 rows x 12 columns]"
      ]
     },
     "execution_count": 5,
     "metadata": {},
     "output_type": "execute_result"
    }
   ],
   "source": [
    "# Let's take a look on the clean data set\n",
    "fifa_subset"
   ]
  },
  {
   "cell_type": "code",
   "execution_count": 6,
   "metadata": {},
   "outputs": [],
   "source": [
    "# Changing the \"Value\" to the one we could make regression on (€83K = 0.083, €10.5M = 10.5 etc.)\n",
    "def make_valeu_float(val):\n",
    "    multiplier = {\"K\": 1000/1000000, \"M\": 1}\n",
    "    return float(val[1:-1])*multiplier[val[-1]]\n",
    "fifa_subset[\"Value\"] = fifa_subset[\"Value\"].apply(lambda x: make_valeu_float(x))"
   ]
  },
  {
   "cell_type": "code",
   "execution_count": 7,
   "metadata": {},
   "outputs": [
    {
     "data": {
      "text/plain": [
       "Age               0\n",
       "Overall           0\n",
       "Value             0\n",
       "ShortPassing      0\n",
       "LongPassing       0\n",
       "SprintSpeed       0\n",
       "ShotPower         0\n",
       "LongShots         0\n",
       "Positioning       0\n",
       "StandingTackle    0\n",
       "SlidingTackle     0\n",
       "Best Position     0\n",
       "dtype: int64"
      ]
     },
     "execution_count": 7,
     "metadata": {},
     "output_type": "execute_result"
    }
   ],
   "source": [
    "# Check if we are having NA's and if so - how much in each column\n",
    "\n",
    "fifa_subset.isna().sum()"
   ]
  },
  {
   "cell_type": "markdown",
   "metadata": {},
   "source": [
    "Age: This refers to the player's age in years, and is an important factor in evaluating a player's potential and experience. <br>\n",
    "\n",
    "Overall: This is a rating given to a player based on their overall skill level and performance in various aspects of the game. It is used to compare and rank players against each other. <br>\n",
    "\n",
    "Value: This is the estimated market value of a player, which takes into account different factors . It is often used as a reference point for player transfers and negotiations. <br>\n",
    "\n",
    "ShortPassing: This refers to the player's ability to accurately pass the ball over short distances, typically within a few meters. <br>\n",
    "\n",
    "LongPassing: This refers to the player's ability to accurately pass the ball over longer distances, typically over 10-20 meters or more. <br>\n",
    "\n",
    "SprintSpeed: This refers to the player's ability to run at high speeds over short distances, typically over 20-30 meters or less. <br>\n",
    "\n",
    "ShotPower: This refers to the player's ability to shoot the ball with power and accuracy, typically measured by the speed of the shot and the force behind it. <br>\n",
    "\n",
    "LongShots: This refers to the player's ability to take shots from a distance, typically outside the penalty box. <br>\n",
    "\n",
    "Positioning: This refers to the player's ability to position themselves effectively on the field, both offensively and defensively. <br>\n",
    "\n",
    "StandingTackle: This refers to the player's ability to make tackles while standing, typically used to stop an opposing player from advancing with the ball. <br>\n",
    "\n",
    "SlidingTackle: This refers to the player's ability to make tackles while sliding on the ground, typically used to stop an opposing player from advancing with the ball. <br>\n",
    "\n",
    "Best Position: This refers to the player's primary or preferred position on the field, such as forward, midfielder, defender, or goalkeeper (that we have removed). It is often used to evaluate a player's suitability for different team formations and strategies."
   ]
  },
  {
   "cell_type": "markdown",
   "metadata": {},
   "source": [
    "So our features mostly are some important stats for football player as his speed, passes, shoots and tackling for example, and also \"Age\" and \"Best position\" that can have impact in theory on the \"Overall\" or \"Value\"."
   ]
  },
  {
   "cell_type": "markdown",
   "metadata": {},
   "source": [
    "## Q3"
   ]
  },
  {
   "cell_type": "markdown",
   "metadata": {},
   "source": [
    "We can assume that some features can be correlated one with another: <br>\n",
    "Short with long passing; Shot power with Long shots; Standing Tackle (how good the player is to defend in standing position) with Sliding Tackle (to defending when the player is running after attacker)."
   ]
  },
  {
   "cell_type": "code",
   "execution_count": null,
   "metadata": {
    "pycharm": {
     "is_executing": true
    }
   },
   "outputs": [],
   "source": [
    "corcor=corner.corner(fifa_subset.drop(columns=[\"Best Position\", \"Value\", \"Overall\"]), labels=fifa_subset.drop(columns=[\"Best Position\", \"Value\", \"Overall\"]).columns)\n",
    "\n",
    "corcor.show()"
   ]
  },
  {
   "cell_type": "markdown",
   "metadata": {},
   "source": [
    "So what we can see on the \"corner.corner\" panels? <br>\n",
    "The diagonal of the plots in a corner figure shows the distribution of each variable in the dataset using a histogram. Each histogram represents the frequency distribution of the corresponding variable. <br>\n",
    "The plots below the diagonal show scatter plots of pairs of variables, with the variable on the y-axis plotted against the variable on the x-axis. <br> These scatter plots show the pairwise relationships between the variables. <br>\n",
    "At the end these plots can help us to imagine what are relations between the variables."
   ]
  },
  {
   "cell_type": "markdown",
   "metadata": {},
   "source": [
    "As we can see by the shapes: <br>\n",
    "ShortPassing and LongPassing seems to have strong correlation <br>\n",
    "ShortPassing and ShotPower seems to have correlation <br>\n",
    "LongPassing and ShotPower seems to have correlation <br>\n",
    "ShotPower and LongShot seems to have strong correlation <br>\n",
    "ShotPower and Positioning seems to have correlation <br>\n",
    "LongShots and Positioning seems to have correlation <br>\n",
    "StandingTackle and SlidingTackle seems to have strong correlation"
   ]
  },
  {
   "cell_type": "markdown",
   "metadata": {},
   "source": []
  },
  {
   "cell_type": "markdown",
   "metadata": {},
   "source": [
    "## Q4"
   ]
  },
  {
   "cell_type": "code",
   "execution_count": null,
   "metadata": {
    "pycharm": {
     "is_executing": true
    }
   },
   "outputs": [],
   "source": [
    "# Load the dataset into a pandas DataFrame\n",
    "df = pd.read_csv('dataset.csv')\n",
    "\n",
    "# Extract the first column as the explained variable and the remaining columns as the explanatory variables\n",
    "y = df.iloc[:, 0]\n",
    "X = df.iloc[:, 1:]\n",
    "# Add a constant term to the explanatory variables\n",
    "X = sm.add_constant(X)\n",
    "\n",
    "model = sm.OLS(y, X)\n",
    "results = model.fit()\n",
    "p_values = results.pvalues"
   ]
  },
  {
   "cell_type": "code",
   "execution_count": null,
   "metadata": {
    "pycharm": {
     "is_executing": true
    }
   },
   "outputs": [],
   "source": [
    "print(p_values)"
   ]
  },
  {
   "cell_type": "markdown",
   "metadata": {},
   "source": [
    "## Q5"
   ]
  },
  {
   "cell_type": "code",
   "execution_count": null,
   "metadata": {
    "pycharm": {
     "is_executing": true
    }
   },
   "outputs": [],
   "source": [
    "# Function of backward elimination until no further improvements in adjusted R-squared are observed\n",
    "def backward_elim(X, y):\n",
    "    # Initialize a list to store the names of the removed columns\n",
    "    removed_cols = []\n",
    "    model = sm.OLS(y, X)\n",
    "    results = model.fit()\n",
    "    prev_adj_r_squared = results.rsquared_adj\n",
    "    while True:\n",
    "        # Initialize a list to store the adjusted R-squared values for each column\n",
    "        adj_r_squareds = []\n",
    "\n",
    "        # Loop over the explanatory variables and calculate the adjusted R-squared for each column after removing it\n",
    "        for col in X.columns[1:]:\n",
    "            X_subset = X.drop(columns=[col])\n",
    "            model = sm.OLS(y, X_subset)\n",
    "            results = model.fit()\n",
    "            adj_r_squared = results.rsquared_adj\n",
    "            adj_r_squareds.append(adj_r_squared)\n",
    "\n",
    "        # Find the index of column that dropping of this column leads to the highest adjusted R-squared.\n",
    "        best_col_idx = adj_r_squareds.index(max(adj_r_squareds))\n",
    "\n",
    "        # If the adjusted R-squared has improved, remove the corresponding column and refit the model\n",
    "        if max(adj_r_squareds) > prev_adj_r_squared:\n",
    "            removed_col = X.columns[best_col_idx+1] # +1 because of const\n",
    "            X = X.drop(columns=[removed_col])\n",
    "            removed_cols.append(removed_col)\n",
    "            model = sm.OLS(y, X)\n",
    "            results = model.fit()\n",
    "            prev_adj_r_squared = results.rsquared_adj\n",
    "    # If the adjusted R-squared has not improved, stop removing columns\n",
    "        else:\n",
    "            break\n",
    "    saved_cols = X.columns\n",
    "    return removed_cols, saved_cols"
   ]
  },
  {
   "cell_type": "code",
   "execution_count": null,
   "metadata": {
    "pycharm": {
     "is_executing": true
    }
   },
   "outputs": [],
   "source": [
    "res = backward_elim(X,y)\n",
    "print(\"That were kept after ellimination : \", list(res[1]))"
   ]
  },
  {
   "cell_type": "code",
   "execution_count": null,
   "metadata": {
    "pycharm": {
     "is_executing": true
    }
   },
   "outputs": [],
   "source": [
    "# Plot the columns that were removed\n",
    "fig, axs = plt.subplots(nrows=(len(res[0]) + 3) // 4, ncols=4, figsize=(16, 4*(len(res[0]) + 3) // 4))\n",
    "for i, col in enumerate(res[0]):\n",
    "    row, col_idx = divmod(i, 4)\n",
    "    axs[row, col_idx].scatter(df[col], df[df.columns[0]])\n",
    "    axs[row, col_idx].set_xlabel(col)\n",
    "    axs[row, col_idx].set_ylabel(df.columns[0])\n",
    "    axs[row, col_idx].spines['right'].set_visible(False)\n",
    "    axs[row, col_idx].spines['top'].set_visible(False)\n",
    "\n",
    "# Remove unused subplots\n",
    "while i < len(axs.flat) - 1:\n",
    "    axs.flatten()[i+1].remove()\n",
    "    i += 1\n",
    "\n",
    "plt.show()"
   ]
  },
  {
   "cell_type": "markdown",
   "metadata": {},
   "source": [
    "On the plots where y-axis is *y* (explained variable) and on x-axis some different features that were dropped we can clearly see on the most plots absence of any correlation with *y*. We understand that from the \"cloud\" form of the plot. <br>\n",
    "Also, we can see 2 plots with dummy features and also there is clearly no connection between the feature and *y*. The reason of this conclusion is that no matter if dummy variable is 0 or 1 - the distribution of *y* looks pretty the same. <br>\n",
    "All this means that there is no (or very little) correlation between these features and explained variable *y*."
   ]
  }
 ],
 "metadata": {
  "kernelspec": {
   "display_name": "Python 3 (ipykernel)",
   "language": "python",
   "name": "python3"
  },
  "language_info": {
   "codemirror_mode": {
    "name": "ipython",
    "version": 3
   },
   "file_extension": ".py",
   "mimetype": "text/x-python",
   "name": "python",
   "nbconvert_exporter": "python",
   "pygments_lexer": "ipython3",
   "version": "3.9.0"
  }
 },
 "nbformat": 4,
 "nbformat_minor": 1
}
